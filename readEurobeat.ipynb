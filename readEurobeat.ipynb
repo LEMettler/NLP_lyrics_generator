{
 "cells": [
  {
   "cell_type": "code",
   "execution_count": 2,
   "id": "77159c1e-f620-4a7e-8955-7e3a81aecf1d",
   "metadata": {},
   "outputs": [],
   "source": [
    "import numpy as np\n",
    "import pandas as pd"
   ]
  },
  {
   "cell_type": "code",
   "execution_count": 2,
   "id": "e71c9600-d245-41af-9ae9-e47d6a364d4b",
   "metadata": {},
   "outputs": [],
   "source": [
    "file = 'eurobeat_lyrics.csv'\n",
    "\n",
    "df = pd.Series(open(file,'r').read().split(';'))"
   ]
  },
  {
   "cell_type": "code",
   "execution_count": null,
   "id": "21736f2f-1df3-4883-b5f7-f63f11deaa20",
   "metadata": {},
   "outputs": [],
   "source": []
  },
  {
   "cell_type": "code",
   "execution_count": 48,
   "id": "086d6edb-1742-46bd-a471-6c4a50802dc6",
   "metadata": {},
   "outputs": [],
   "source": [
    "n_x = 301\n",
    "x = np.arange(1,n_x+1)\n",
    "len_seq = 100"
   ]
  },
  {
   "cell_type": "code",
   "execution_count": 49,
   "id": "2c127116-9c2e-4aef-979d-e5a09ef46364",
   "metadata": {},
   "outputs": [
    {
     "name": "stdout",
     "output_type": "stream",
     "text": [
      "(6, 100)\n"
     ]
    }
   ],
   "source": [
    "#one x will be split in (n_x//len_seq)*2 parts\n",
    "\n",
    "n_seq = 2* (n_x//len_seq)\n",
    "\n",
    "\n",
    "final = np.empty((n_seq, len_seq))\n",
    "print(final.shape)\n",
    "\n",
    "for i in range(n_seq-1):\n",
    "    final[i] = x[ int(i*(len_seq/2)) : int(len_seq + i*len_seq/2)]\n",
    "    \n",
    "    \n",
    "final[n_seq-1] = x[-(len_seq):]\n"
   ]
  },
  {
   "cell_type": "code",
   "execution_count": 51,
   "id": "b3e24809-8a74-4d2e-85e1-3d377b504a3b",
   "metadata": {},
   "outputs": [],
   "source": [
    "#print(final)"
   ]
  },
  {
   "cell_type": "code",
   "execution_count": 52,
   "id": "0ce2daf5-f32b-4c8f-b445-958f2905beb5",
   "metadata": {},
   "outputs": [],
   "source": [
    "def splitSongInSequences(song, seq_len):\n",
    "    song_len = len(song)\n",
    "    n_seq = 2*(song_len//seq_len)\n",
    "    seq =  np.empty((n_seq, seq_len))\n",
    "    \n",
    "    for i in range(n_seq-1):\n",
    "        seq[i] = song[int(i*(seq_len/2)) : int(seq_len + i*seq_len/2)]\n",
    "    seq[n_seq-1] = x[-(seq_len):]\n",
    "    return seq\n",
    "    "
   ]
  },
  {
   "cell_type": "code",
   "execution_count": null,
   "id": "59dc9b88-6610-4107-b44a-14c6ff97553d",
   "metadata": {},
   "outputs": [],
   "source": []
  },
  {
   "cell_type": "code",
   "execution_count": 64,
   "id": "df71ffb7-fdf3-4f02-8a79-0fcef03d4f5e",
   "metadata": {},
   "outputs": [],
   "source": [
    "s = np.array(['a', 'b', 'c'])"
   ]
  },
  {
   "cell_type": "code",
   "execution_count": 70,
   "id": "504fff3f-ee97-4c1f-a358-ee71fe853ba0",
   "metadata": {},
   "outputs": [
    {
     "data": {
      "text/plain": [
       "array(['a', 'b', 'c'], dtype='<U1')"
      ]
     },
     "execution_count": 70,
     "metadata": {},
     "output_type": "execute_result"
    }
   ],
   "source": [
    "s"
   ]
  },
  {
   "cell_type": "code",
   "execution_count": 81,
   "id": "a31b5962-f6b0-4b61-be53-7a652f4a25aa",
   "metadata": {},
   "outputs": [],
   "source": [
    "gg = []\n",
    "gg.append(s)"
   ]
  },
  {
   "cell_type": "code",
   "execution_count": 85,
   "id": "0d3cfd83-a030-4947-9bad-1bb664962bfa",
   "metadata": {},
   "outputs": [],
   "source": [
    "gg = [[1,2]]"
   ]
  },
  {
   "cell_type": "code",
   "execution_count": 84,
   "id": "ffd4cb45-8873-4078-9434-a6aa06275423",
   "metadata": {},
   "outputs": [
    {
     "name": "stdout",
     "output_type": "stream",
     "text": [
      "[[]]\n"
     ]
    }
   ],
   "source": [
    "print(gg)"
   ]
  }
 ],
 "metadata": {
  "kernelspec": {
   "display_name": "Python 3",
   "language": "python",
   "name": "python3"
  },
  "language_info": {
   "codemirror_mode": {
    "name": "ipython",
    "version": 3
   },
   "file_extension": ".py",
   "mimetype": "text/x-python",
   "name": "python",
   "nbconvert_exporter": "python",
   "pygments_lexer": "ipython3",
   "version": "3.10.8"
  }
 },
 "nbformat": 4,
 "nbformat_minor": 5
}
