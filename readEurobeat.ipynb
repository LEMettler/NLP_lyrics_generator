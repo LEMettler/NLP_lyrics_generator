{
 "cells": [
  {
   "cell_type": "code",
   "execution_count": 1,
   "id": "77159c1e-f620-4a7e-8955-7e3a81aecf1d",
   "metadata": {},
   "outputs": [],
   "source": [
    "import numpy as np\n",
    "import pandas as pd"
   ]
  },
  {
   "cell_type": "code",
   "execution_count": 2,
   "id": "e71c9600-d245-41af-9ae9-e47d6a364d4b",
   "metadata": {},
   "outputs": [],
   "source": [
    "file = 'eurobeat_lyrics.csv'\n",
    "\n",
    "df = pd.Series(open(file,'r').read().split(';'))"
   ]
  },
  {
   "cell_type": "code",
   "execution_count": null,
   "id": "21736f2f-1df3-4883-b5f7-f63f11deaa20",
   "metadata": {},
   "outputs": [],
   "source": []
  },
  {
   "cell_type": "code",
   "execution_count": 48,
   "id": "086d6edb-1742-46bd-a471-6c4a50802dc6",
   "metadata": {},
   "outputs": [],
   "source": [
    "n_x = 301\n",
    "x = np.arange(1,n_x+1)\n",
    "len_seq = 100"
   ]
  },
  {
   "cell_type": "code",
   "execution_count": 49,
   "id": "2c127116-9c2e-4aef-979d-e5a09ef46364",
   "metadata": {},
   "outputs": [
    {
     "name": "stdout",
     "output_type": "stream",
     "text": [
      "(6, 100)\n"
     ]
    }
   ],
   "source": [
    "#one x will be split in (n_x//len_seq)*2 parts\n",
    "\n",
    "n_seq = 2* (n_x//len_seq)\n",
    "\n",
    "\n",
    "final = np.empty((n_seq, len_seq))\n",
    "print(final.shape)\n",
    "\n",
    "for i in range(n_seq-1):\n",
    "    final[i] = x[ int(i*(len_seq/2)) : int(len_seq + i*len_seq/2)]\n",
    "    \n",
    "    \n",
    "final[n_seq-1] = x[-(len_seq):]\n"
   ]
  },
  {
   "cell_type": "code",
   "execution_count": 51,
   "id": "b3e24809-8a74-4d2e-85e1-3d377b504a3b",
   "metadata": {},
   "outputs": [],
   "source": [
    "#print(final)"
   ]
  },
  {
   "cell_type": "code",
   "execution_count": 52,
   "id": "0ce2daf5-f32b-4c8f-b445-958f2905beb5",
   "metadata": {},
   "outputs": [],
   "source": [
    "def splitSongInSequences(song, seq_len):\n",
    "    song_len = len(song)\n",
    "    n_seq = 2*(song_len//seq_len)\n",
    "    seq =  np.empty((n_seq, seq_len))\n",
    "    \n",
    "    for i in range(n_seq-1):\n",
    "        seq[i] = song[int(i*(seq_len/2)) : int(seq_len + i*seq_len/2)]\n",
    "    seq[n_seq-1] = x[-(seq_len):]\n",
    "    return seq\n",
    "    "
   ]
  },
  {
   "cell_type": "code",
   "execution_count": null,
   "id": "59dc9b88-6610-4107-b44a-14c6ff97553d",
   "metadata": {},
   "outputs": [],
   "source": []
  },
  {
   "cell_type": "code",
   "execution_count": null,
   "id": "df71ffb7-fdf3-4f02-8a79-0fcef03d4f5e",
   "metadata": {},
   "outputs": [],
   "source": []
  },
  {
   "cell_type": "code",
   "execution_count": null,
   "id": "504fff3f-ee97-4c1f-a358-ee71fe853ba0",
   "metadata": {},
   "outputs": [],
   "source": []
  },
  {
   "cell_type": "code",
   "execution_count": null,
   "id": "a31b5962-f6b0-4b61-be53-7a652f4a25aa",
   "metadata": {},
   "outputs": [],
   "source": []
  },
  {
   "cell_type": "code",
   "execution_count": 85,
   "id": "0d3cfd83-a030-4947-9bad-1bb664962bfa",
   "metadata": {},
   "outputs": [],
   "source": []
  },
  {
   "cell_type": "code",
   "execution_count": 3,
   "id": "ffd4cb45-8873-4078-9434-a6aa06275423",
   "metadata": {},
   "outputs": [],
   "source": [
    "x = np.arange(100).reshape((5,20))"
   ]
  },
  {
   "cell_type": "code",
   "execution_count": 5,
   "id": "8cc281ab-aa8d-4987-9dc3-400285dbdef1",
   "metadata": {},
   "outputs": [
    {
     "data": {
      "text/plain": [
       "array([[ 0,  1,  2,  3,  4,  5,  6,  7,  8,  9, 10, 11, 12, 13, 14, 15,\n",
       "        16, 17, 18, 19],\n",
       "       [20, 21, 22, 23, 24, 25, 26, 27, 28, 29, 30, 31, 32, 33, 34, 35,\n",
       "        36, 37, 38, 39],\n",
       "       [40, 41, 42, 43, 44, 45, 46, 47, 48, 49, 50, 51, 52, 53, 54, 55,\n",
       "        56, 57, 58, 59],\n",
       "       [60, 61, 62, 63, 64, 65, 66, 67, 68, 69, 70, 71, 72, 73, 74, 75,\n",
       "        76, 77, 78, 79],\n",
       "       [80, 81, 82, 83, 84, 85, 86, 87, 88, 89, 90, 91, 92, 93, 94, 95,\n",
       "        96, 97, 98, 99]])"
      ]
     },
     "execution_count": 5,
     "metadata": {},
     "output_type": "execute_result"
    }
   ],
   "source": [
    "x"
   ]
  },
  {
   "cell_type": "code",
   "execution_count": 6,
   "id": "632090a2-74a2-4808-97df-13315f941383",
   "metadata": {},
   "outputs": [
    {
     "data": {
      "text/plain": [
       "array([[ 1,  2,  3,  4,  5,  6,  7,  8,  9, 10, 11, 12, 13, 14, 15, 16,\n",
       "        17, 18, 19, 20],\n",
       "       [21, 22, 23, 24, 25, 26, 27, 28, 29, 30, 31, 32, 33, 34, 35, 36,\n",
       "        37, 38, 39, 40],\n",
       "       [41, 42, 43, 44, 45, 46, 47, 48, 49, 50, 51, 52, 53, 54, 55, 56,\n",
       "        57, 58, 59, 60],\n",
       "       [61, 62, 63, 64, 65, 66, 67, 68, 69, 70, 71, 72, 73, 74, 75, 76,\n",
       "        77, 78, 79, 80],\n",
       "       [81, 82, 83, 84, 85, 86, 87, 88, 89, 90, 91, 92, 93, 94, 95, 96,\n",
       "        97, 98, 99,  0]])"
      ]
     },
     "execution_count": 6,
     "metadata": {},
     "output_type": "execute_result"
    }
   ],
   "source": [
    "np.roll(x,-1)"
   ]
  }
 ],
 "metadata": {
  "kernelspec": {
   "display_name": "Python 3",
   "language": "python",
   "name": "python3"
  },
  "language_info": {
   "codemirror_mode": {
    "name": "ipython",
    "version": 3
   },
   "file_extension": ".py",
   "mimetype": "text/x-python",
   "name": "python",
   "nbconvert_exporter": "python",
   "pygments_lexer": "ipython3",
   "version": "3.10.8"
  }
 },
 "nbformat": 4,
 "nbformat_minor": 5
}
